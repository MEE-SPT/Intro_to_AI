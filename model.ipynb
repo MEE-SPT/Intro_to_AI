{
 "cells": [
  {
   "cell_type": "code",
   "execution_count": 37,
   "metadata": {},
   "outputs": [],
   "source": [
    "import pandas as pd\n",
    "import numpy as np\n",
    "\n",
    "from sklearn.model_selection import KFold\n",
    "from sklearn.model_selection import train_test_split\n",
    "from sklearn.metrics import r2_score, mean_squared_error\n",
    "from sklearn.preprocessing import LabelEncoder\n",
    "import matplotlib.pyplot as plt"
   ]
  },
  {
   "cell_type": "code",
   "execution_count": 38,
   "metadata": {},
   "outputs": [],
   "source": [
    "df = pd.read_csv('C:/Users/chubb/Downloads/coursework_other.csv', encoding= 'unicode_escape')\n",
    "\n",
    "# label data into catergories\n",
    "# e.g. [winter, summer, spring, spring] -> [0, 1, 2, 2]\n",
    "le = LabelEncoder()\n",
    "df['Date'] = le.fit_transform(df['Date'])\n",
    "df['Seasons'] = le.fit_transform(df['Seasons'])\n",
    "df['Holiday'] = le.fit_transform(df['Holiday'])\n",
    "df['Functioning Day'] = le.fit_transform(df['Functioning Day'])"
   ]
  },
  {
   "cell_type": "code",
   "execution_count": 39,
   "metadata": {},
   "outputs": [],
   "source": [
    "Y = np.array(df['Rented Bike Count'])\n",
    "X = np.array(df.loc[:, df.columns != 'Rented Bike Count'])\n",
    "\n",
    "# split train test dataset\n",
    "Xtr, Xtest, Ytr, Ytest = train_test_split(X, Y, test_size = 0.2, shuffle=True, random_state=10)"
   ]
  },
  {
   "cell_type": "markdown",
   "metadata": {},
   "source": [
    "Dummy Regressor"
   ]
  },
  {
   "cell_type": "code",
   "execution_count": 41,
   "metadata": {},
   "outputs": [
    {
     "name": "stdout",
     "output_type": "stream",
     "text": [
      "MSE: 407233.58\n"
     ]
    }
   ],
   "source": [
    "from sklearn.dummy import DummyRegressor\n",
    "\n",
    "dummy_regr = DummyRegressor(strategy='mean')\n",
    "dummy_regr.fit(Xtr,Ytr)\n",
    "Ypred = dummy_regr.predict(Xtest)\n",
    "dummy_mse = mean_squared_error(Ytest, Ypred)\n",
    "print(f'MSE: {dummy_mse:.2f}')"
   ]
  },
  {
   "cell_type": "markdown",
   "metadata": {},
   "source": [
    "K-Nearest Neighbour Regressor"
   ]
  },
  {
   "cell_type": "code",
   "execution_count": 25,
   "metadata": {},
   "outputs": [],
   "source": [
    "from sklearn.neighbors import KNeighborsRegressor\n",
    "\n",
    "# Instantiate KFold with 5 splits. \n",
    "# Set the parameter random_state to help you reproduce your results if needed.\n",
    "cv = KFold(n_splits=5,random_state=10, shuffle=True)\n",
    "\n",
    "# Set a variable max_k to 30 \n",
    "max_k = 30\n",
    "\n",
    "# Inititalise two variables to store the \n",
    "# training accuracies and validation accuracies \n",
    "# (these need to store max_k*5 accuracies) \n",
    "train_mse = [[] for _ in range(max_k)]\n",
    "val_mse = [[] for _ in range(max_k)]\n",
    "\n",
    "# Loop over the values of k: \n",
    "for k in range(max_k):\n",
    "    \n",
    "    # Instantiate a k-nn classifier (Use the sklearn classifier) with the current value of k \n",
    "    knn = KNeighborsRegressor(n_neighbors=k+1)\n",
    "    # Loop over the cross-validation splits: \n",
    "    for train_index, val_index in cv.split(Xtr):\n",
    "        Xtrain, Xval, Ytrain, Yval = Xtr[train_index],\\\n",
    "            Xtr[val_index], Ytr[train_index], Ytr[val_index]\n",
    "        # fit the model on the current split of data \n",
    "        model=knn.fit(Xtrain, Ytrain)\n",
    "        # make predictions \n",
    "        Ypredtrain=model.predict(Xtrain)\n",
    "        Ypredval=model.predict(Xval)\n",
    "        # calculate training and validation accuracy and store \n",
    "        train_mse[k].append(mean_squared_error(Ytrain,Ypredtrain))\n",
    "        val_mse[k].append(mean_squared_error(Yval, Ypredval))\n",
    "\n",
    "# Calculate the mean training and validation accuracies across splits for each k\n",
    "mean_train_mse = np.mean(train_mse, axis=1)\n",
    "mean_val_mse = np.mean(val_mse, axis=1)"
   ]
  },
  {
   "cell_type": "code",
   "execution_count": 35,
   "metadata": {},
   "outputs": [
    {
     "data": {
      "image/png": "[encoded data removed]",
      "text/plain": [
       "<Figure size 432x288 with 1 Axes>"
      ]
     },
     "metadata": {
      "needs_background": "light"
     },
     "output_type": "display_data"
    },
    {
     "name": "stdout",
     "output_type": "stream",
     "text": [
      "Optimal_N: 6\n",
      "KNN_MSE: 231055.14\n"
     ]
    }
   ],
   "source": [
    "# plot N vs MSE\n",
    "x = range(1, max_k+1)\n",
    "plt.plot(x, mean_train_mse, label='Training MSE')\n",
    "plt.plot(x, mean_val_mse, label='Validation MSE')\n",
    "plt.legend()\n",
    "plt.xlabel('N')\n",
    "plt.ylabel('MSE')\n",
    "plt.show()\n",
    "\n",
    "# find optimal N for validation dataset\n",
    "opt_n = np.argmin(mean_val_mse)+1\n",
    "knn = KNeighborsRegressor(n_neighbors=opt_n)\n",
    "print(f'Optimal_N: {opt_n}')\n",
    "\n",
    "# find MSE of test dataset\n",
    "knn.fit(Xtr, Ytr)\n",
    "Ypred = knn.predict(Xtest)\n",
    "knn_mse = mean_squared_error(Ytest, Ypred)\n",
    "print(f'KNN_MSE: {knn_mse:.2f}')"
   ]
  },
  {
   "cell_type": "code",
   "execution_count": 30,
   "metadata": {},
   "outputs": [
    {
     "name": "stdout",
     "output_type": "stream",
     "text": [
      "R square: 0.56\n",
      "MSE: 178978.89\n"
     ]
    }
   ],
   "source": [
    "from sklearn.linear_model import LinearRegression\n",
    "\n",
    "linear = LinearRegression()\n",
    "\n",
    "model=linear.fit(Xtr, Ytr)\n",
    "\n",
    "Ypred = np.array(model.predict(Xtest),dtype='int64')\n",
    "\n",
    "r2 = r2_score(Ytest,Ypred)\n",
    "mse = mean_squared_error(Ytest,Ypred)\n",
    "\n",
    "print(f'R square: {r2:.2f}')\n",
    "print(f'MSE: {mse:.2f}')"
   ]
  },
  {
   "cell_type": "code",
   "execution_count": 34,
   "metadata": {},
   "outputs": [
    {
     "name": "stdout",
     "output_type": "stream",
     "text": [
      "MSE: 407233.58\n"
     ]
    }
   ],
   "source": [
    "dummy_regr = DummyRegressor(strategy='mean')\n",
    "dummy_regr.fit(Xtr,Ytr)\n",
    "Ypred = dummy_regr.predict(Xtest)\n",
    "dummy_mse = mean_squared_error(Ytest, Ypred)\n",
    "print(f'MSE: {dummy_mse:.2f}')"
   ]
  },
  {
   "cell_type": "code",
   "execution_count": 51,
   "metadata": {},
   "outputs": [],
   "source": [
    "from sklearn.tree import DecisionTreeRegressor\n",
    "\n",
    "# Instantiate KFold with 5 splits. \n",
    "# Set the parameter random_state to help you reproduce your results if needed.\n",
    "cv = KFold(n_splits=5,random_state=10, shuffle=True)\n",
    "\n",
    "# Set a variable max_k to 30 \n",
    "max_d = 30\n",
    "\n",
    "# Inititalise two variables to store the \n",
    "# training accuracies and validation accuracies \n",
    "# (these need to store max_k*5 accuracies) \n",
    "train_mse = [[] for _ in range(max_d)]\n",
    "val_mse = [[] for _ in range(max_d)]\n",
    "\n",
    "# Loop over the values of k: \n",
    "for d in range(max_d):\n",
    "    \n",
    "    # Instantiate a k-nn classifier (Use the sklearn classifier) with the current value of k \n",
    "    dtr = DecisionTreeRegressor(max_depth=d+1)\n",
    "    # Loop over the cross-validation splits: \n",
    "    for train_index, val_index in cv.split(Xtr):\n",
    "        Xtrain, Xval, Ytrain, Yval = Xtr[train_index],\\\n",
    "            Xtr[val_index], Ytr[train_index], Ytr[val_index]\n",
    "        # fit the model on the current split of data \n",
    "        model=dtr.fit(Xtrain, Ytrain)\n",
    "        # make predictions \n",
    "        Ypredtrain=model.predict(Xtrain)\n",
    "        Ypredval=model.predict(Xval)\n",
    "        # calculate training and validation accuracy and store \n",
    "        train_mse[d].append(mean_squared_error(Ytrain,Ypredtrain))\n",
    "        val_mse[d].append(mean_squared_error(Yval, Ypredval))\n",
    "\n",
    "# Calculate the mean training and validation accuracies across splits for each k\n",
    "mean_train_mse = np.mean(train_mse, axis=1)\n",
    "mean_val_mse = np.mean(val_mse, axis=1)"
   ]
  },
  {
   "cell_type": "code",
   "execution_count": 52,
   "metadata": {},
   "outputs": [
    {
     "data": {
      "image/png": "[encoded data removed]",
      "text/plain": [
       "<Figure size 432x288 with 1 Axes>"
      ]
     },
     "metadata": {
      "needs_background": "light"
     },
     "output_type": "display_data"
    },
    {
     "name": "stdout",
     "output_type": "stream",
     "text": [
      "Optimal_Depth: 10\n",
      "DecisionTreeRegressor_MSE: 80917.77\n"
     ]
    }
   ],
   "source": [
    "# plot N vs MSE\n",
    "x = range(1, max_k+1)\n",
    "plt.plot(x, mean_train_mse, label='Training MSE')\n",
    "plt.plot(x, mean_val_mse, label='Validation MSE')\n",
    "plt.legend()\n",
    "plt.xlabel('N')\n",
    "plt.ylabel('MSE')\n",
    "plt.show()\n",
    "\n",
    "# find optimal N for validation dataset\n",
    "opt_d = np.argmin(mean_val_mse)+1\n",
    "print(f'Optimal_Depth: {opt_d}')\n",
    "\n",
    "# find MSE of test dataset\n",
    "dtr = DecisionTreeRegressor(max_depth=opt_d)\n",
    "dtr.fit(Xtr, Ytr)\n",
    "Ypred = dtr.predict(Xtest)\n",
    "dtr_mse = mean_squared_error(Ytest, Ypred)\n",
    "print(f'DecisionTreeRegressor_MSE: {dtr_mse:.2f}')"
   ]
  },
  {
   "cell_type": "code",
   "execution_count": 14,
   "metadata": {},
   "outputs": [],
   "source": [
    "from sklearn.ensemble import RandomForestRegressor\n",
    "max_d = 10\n",
    "mse_hist = []\n",
    "for d in range(1,max_d):\n",
    "    regr = RandomForestRegressor(max_depth=d, random_state=0)\n",
    "    regr.fit(Xtr,Ytr)\n",
    "    ypred = regr.predict(Xtest)\n",
    "    mse = mean_squared_error(Ytest, ypred)\n",
    "    mse_hist.append(mse)"
   ]
  },
  {
   "cell_type": "code",
   "execution_count": null,
   "metadata": {},
   "outputs": [],
   "source": [
    "from sklearn.model_selection import GridSearchCV\n",
    "knn = KNeighborsRegressor()\n",
    "params = {\n",
    "    \"n_neighbors\" : [5,6,7,8,9,10,11,12,13,14,15,16,17,18,19,20],\n",
    "    \"weights\" : ['uniform', 'distance'],\n",
    "    \"algorithm\" : ['ball_tree','kd_tree','brute']\n",
    "}\n",
    "search = GridSearchCV(knn, params, scoring='neg_mean_squared_error', n_jobs=-1, cv=5)\n",
    "result = search.fit(Xtr, Ytr)\n",
    "print(result.best_estimator_)"
   ]
  }
 ],
 "metadata": {
  "interpreter": {
   "hash": "7e877b6a4531c1290d3e7ded303b6893592f67df7bcbce103315c0b1f4e7c7e8"
  },
  "kernelspec": {
   "display_name": "Python 3.9.7 ('intro_ai')",
   "language": "python",
   "name": "python3"
  },
  "language_info": {
   "codemirror_mode": {
    "name": "ipython",
    "version": 3
   },
   "file_extension": ".py",
   "mimetype": "text/x-python",
   "name": "python",
   "nbconvert_exporter": "python",
   "pygments_lexer": "ipython3",
   "version": "3.9.7"
  },
  "orig_nbformat": 4
 },
 "nbformat": 4,
 "nbformat_minor": 2
}
